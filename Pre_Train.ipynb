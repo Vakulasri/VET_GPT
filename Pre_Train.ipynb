{
  "nbformat": 4,
  "nbformat_minor": 0,
  "metadata": {
    "colab": {
      "provenance": [],
      "history_visible": true,
      "gpuType": "T4"
    },
    "kernelspec": {
      "name": "python3",
      "display_name": "Python 3"
    },
    "language_info": {
      "name": "python"
    },
    "accelerator": "GPU"
  },
  "cells": [
    {
      "cell_type": "code",
      "execution_count": 2,
      "metadata": {
        "colab": {
          "base_uri": "https://localhost:8080/"
        },
        "id": "JhK02Zu6Q1Pj",
        "outputId": "36bf0e90-c846-4656-b781-65ba6a954098"
      },
      "outputs": [
        {
          "output_type": "stream",
          "name": "stdout",
          "text": [
            "Requirement already satisfied: tiktoken in /usr/local/lib/python3.10/dist-packages (0.8.0)\n",
            "Requirement already satisfied: regex>=2022.1.18 in /usr/local/lib/python3.10/dist-packages (from tiktoken) (2024.9.11)\n",
            "Requirement already satisfied: requests>=2.26.0 in /usr/local/lib/python3.10/dist-packages (from tiktoken) (2.32.3)\n",
            "Requirement already satisfied: charset-normalizer<4,>=2 in /usr/local/lib/python3.10/dist-packages (from requests>=2.26.0->tiktoken) (3.4.0)\n",
            "Requirement already satisfied: idna<4,>=2.5 in /usr/local/lib/python3.10/dist-packages (from requests>=2.26.0->tiktoken) (3.10)\n",
            "Requirement already satisfied: urllib3<3,>=1.21.1 in /usr/local/lib/python3.10/dist-packages (from requests>=2.26.0->tiktoken) (2.2.3)\n",
            "Requirement already satisfied: certifi>=2017.4.17 in /usr/local/lib/python3.10/dist-packages (from requests>=2.26.0->tiktoken) (2024.8.30)\n"
          ]
        }
      ],
      "source": [
        "!pip install tiktoken\n",
        "import tiktoken\n",
        "import torch\n",
        "import numpy as np\n",
        "import torch.nn as nn\n",
        "\n",
        "from torch.nn import functional as F\n"
      ]
    },
    {
      "cell_type": "code",
      "execution_count": 3,
      "metadata": {
        "id": "g-8pCSc_cTdc"
      },
      "outputs": [],
      "source": [
        "torch.manual_seed(256)\n",
        "device = 'cuda' if torch.cuda.is_available() else 'cpu'\n",
        "\n",
        "block_size        = 40      ## N tokens in sequence\n",
        "batch_size        = 64\n",
        "max_iters         = 6000\n",
        "eval_interval     = 500\n",
        "learning_rate     = 0.0003\n",
        "eval_iters        = 300\n",
        "vocab_size        = 65\n",
        "\n",
        "## every id for a given token is embedded to vector of this size\n",
        "n_embd            = 512\n",
        "n_head            = 8         ## 8 attention heads\n",
        "n_layer           = 6         ## 6 eoncoder layers\n",
        "dropout           = 0.2\n"
      ]
    },
    {
      "cell_type": "code",
      "execution_count": 4,
      "metadata": {
        "colab": {
          "base_uri": "https://localhost:8080/",
          "height": 73
        },
        "id": "J1bcmdsIcW3L",
        "outputId": "ac375ad4-3729-4174-ef49-861f2b3321e6"
      },
      "outputs": [
        {
          "output_type": "display_data",
          "data": {
            "text/plain": [
              "<IPython.core.display.HTML object>"
            ],
            "text/html": [
              "\n",
              "     <input type=\"file\" id=\"files-2c13ce93-b55f-44fe-8b61-97221654ace2\" name=\"files[]\" multiple disabled\n",
              "        style=\"border:none\" />\n",
              "     <output id=\"result-2c13ce93-b55f-44fe-8b61-97221654ace2\">\n",
              "      Upload widget is only available when the cell has been executed in the\n",
              "      current browser session. Please rerun this cell to enable.\n",
              "      </output>\n",
              "      <script>// Copyright 2017 Google LLC\n",
              "//\n",
              "// Licensed under the Apache License, Version 2.0 (the \"License\");\n",
              "// you may not use this file except in compliance with the License.\n",
              "// You may obtain a copy of the License at\n",
              "//\n",
              "//      http://www.apache.org/licenses/LICENSE-2.0\n",
              "//\n",
              "// Unless required by applicable law or agreed to in writing, software\n",
              "// distributed under the License is distributed on an \"AS IS\" BASIS,\n",
              "// WITHOUT WARRANTIES OR CONDITIONS OF ANY KIND, either express or implied.\n",
              "// See the License for the specific language governing permissions and\n",
              "// limitations under the License.\n",
              "\n",
              "/**\n",
              " * @fileoverview Helpers for google.colab Python module.\n",
              " */\n",
              "(function(scope) {\n",
              "function span(text, styleAttributes = {}) {\n",
              "  const element = document.createElement('span');\n",
              "  element.textContent = text;\n",
              "  for (const key of Object.keys(styleAttributes)) {\n",
              "    element.style[key] = styleAttributes[key];\n",
              "  }\n",
              "  return element;\n",
              "}\n",
              "\n",
              "// Max number of bytes which will be uploaded at a time.\n",
              "const MAX_PAYLOAD_SIZE = 100 * 1024;\n",
              "\n",
              "function _uploadFiles(inputId, outputId) {\n",
              "  const steps = uploadFilesStep(inputId, outputId);\n",
              "  const outputElement = document.getElementById(outputId);\n",
              "  // Cache steps on the outputElement to make it available for the next call\n",
              "  // to uploadFilesContinue from Python.\n",
              "  outputElement.steps = steps;\n",
              "\n",
              "  return _uploadFilesContinue(outputId);\n",
              "}\n",
              "\n",
              "// This is roughly an async generator (not supported in the browser yet),\n",
              "// where there are multiple asynchronous steps and the Python side is going\n",
              "// to poll for completion of each step.\n",
              "// This uses a Promise to block the python side on completion of each step,\n",
              "// then passes the result of the previous step as the input to the next step.\n",
              "function _uploadFilesContinue(outputId) {\n",
              "  const outputElement = document.getElementById(outputId);\n",
              "  const steps = outputElement.steps;\n",
              "\n",
              "  const next = steps.next(outputElement.lastPromiseValue);\n",
              "  return Promise.resolve(next.value.promise).then((value) => {\n",
              "    // Cache the last promise value to make it available to the next\n",
              "    // step of the generator.\n",
              "    outputElement.lastPromiseValue = value;\n",
              "    return next.value.response;\n",
              "  });\n",
              "}\n",
              "\n",
              "/**\n",
              " * Generator function which is called between each async step of the upload\n",
              " * process.\n",
              " * @param {string} inputId Element ID of the input file picker element.\n",
              " * @param {string} outputId Element ID of the output display.\n",
              " * @return {!Iterable<!Object>} Iterable of next steps.\n",
              " */\n",
              "function* uploadFilesStep(inputId, outputId) {\n",
              "  const inputElement = document.getElementById(inputId);\n",
              "  inputElement.disabled = false;\n",
              "\n",
              "  const outputElement = document.getElementById(outputId);\n",
              "  outputElement.innerHTML = '';\n",
              "\n",
              "  const pickedPromise = new Promise((resolve) => {\n",
              "    inputElement.addEventListener('change', (e) => {\n",
              "      resolve(e.target.files);\n",
              "    });\n",
              "  });\n",
              "\n",
              "  const cancel = document.createElement('button');\n",
              "  inputElement.parentElement.appendChild(cancel);\n",
              "  cancel.textContent = 'Cancel upload';\n",
              "  const cancelPromise = new Promise((resolve) => {\n",
              "    cancel.onclick = () => {\n",
              "      resolve(null);\n",
              "    };\n",
              "  });\n",
              "\n",
              "  // Wait for the user to pick the files.\n",
              "  const files = yield {\n",
              "    promise: Promise.race([pickedPromise, cancelPromise]),\n",
              "    response: {\n",
              "      action: 'starting',\n",
              "    }\n",
              "  };\n",
              "\n",
              "  cancel.remove();\n",
              "\n",
              "  // Disable the input element since further picks are not allowed.\n",
              "  inputElement.disabled = true;\n",
              "\n",
              "  if (!files) {\n",
              "    return {\n",
              "      response: {\n",
              "        action: 'complete',\n",
              "      }\n",
              "    };\n",
              "  }\n",
              "\n",
              "  for (const file of files) {\n",
              "    const li = document.createElement('li');\n",
              "    li.append(span(file.name, {fontWeight: 'bold'}));\n",
              "    li.append(span(\n",
              "        `(${file.type || 'n/a'}) - ${file.size} bytes, ` +\n",
              "        `last modified: ${\n",
              "            file.lastModifiedDate ? file.lastModifiedDate.toLocaleDateString() :\n",
              "                                    'n/a'} - `));\n",
              "    const percent = span('0% done');\n",
              "    li.appendChild(percent);\n",
              "\n",
              "    outputElement.appendChild(li);\n",
              "\n",
              "    const fileDataPromise = new Promise((resolve) => {\n",
              "      const reader = new FileReader();\n",
              "      reader.onload = (e) => {\n",
              "        resolve(e.target.result);\n",
              "      };\n",
              "      reader.readAsArrayBuffer(file);\n",
              "    });\n",
              "    // Wait for the data to be ready.\n",
              "    let fileData = yield {\n",
              "      promise: fileDataPromise,\n",
              "      response: {\n",
              "        action: 'continue',\n",
              "      }\n",
              "    };\n",
              "\n",
              "    // Use a chunked sending to avoid message size limits. See b/62115660.\n",
              "    let position = 0;\n",
              "    do {\n",
              "      const length = Math.min(fileData.byteLength - position, MAX_PAYLOAD_SIZE);\n",
              "      const chunk = new Uint8Array(fileData, position, length);\n",
              "      position += length;\n",
              "\n",
              "      const base64 = btoa(String.fromCharCode.apply(null, chunk));\n",
              "      yield {\n",
              "        response: {\n",
              "          action: 'append',\n",
              "          file: file.name,\n",
              "          data: base64,\n",
              "        },\n",
              "      };\n",
              "\n",
              "      let percentDone = fileData.byteLength === 0 ?\n",
              "          100 :\n",
              "          Math.round((position / fileData.byteLength) * 100);\n",
              "      percent.textContent = `${percentDone}% done`;\n",
              "\n",
              "    } while (position < fileData.byteLength);\n",
              "  }\n",
              "\n",
              "  // All done.\n",
              "  yield {\n",
              "    response: {\n",
              "      action: 'complete',\n",
              "    }\n",
              "  };\n",
              "}\n",
              "\n",
              "scope.google = scope.google || {};\n",
              "scope.google.colab = scope.google.colab || {};\n",
              "scope.google.colab._files = {\n",
              "  _uploadFiles,\n",
              "  _uploadFilesContinue,\n",
              "};\n",
              "})(self);\n",
              "</script> "
            ]
          },
          "metadata": {}
        },
        {
          "output_type": "stream",
          "name": "stdout",
          "text": [
            "Saving cats_and_dogs_data.txt to cats_and_dogs_data.txt\n"
          ]
        }
      ],
      "source": [
        "from google.colab import files\n",
        "uploaded = files.upload()\n",
        "\n",
        "with open('cats_and_dogs_data.txt', 'r', encoding='utf-8') as f:\n",
        "    text = f.read().split('.')\n",
        "\n"
      ]
    },
    {
      "cell_type": "code",
      "execution_count": 5,
      "metadata": {
        "id": "35PTBHnPcY5p"
      },
      "outputs": [],
      "source": [
        "# Initialize tiktoken encoder/decoder\n",
        "tokenizer = tiktoken.get_encoding(\"cl100k_base\")  # using the GPT-3 base encoding\n",
        "encode = tokenizer.encode\n",
        "decode = tokenizer.decode\n",
        "\n"
      ]
    },
    {
      "cell_type": "code",
      "execution_count": 6,
      "metadata": {
        "colab": {
          "base_uri": "https://localhost:8080/"
        },
        "id": "ch09P_7MccEQ",
        "outputId": "9831b061-a98a-4865-ded9-a94c94b656f0"
      },
      "outputs": [
        {
          "output_type": "stream",
          "name": "stdout",
          "text": [
            "Loaded text length: 381381\n",
            "Sample content: URL: https://veterinarypartner.vin.com/default.aspx?pId=19239&catId=102887\n",
            "\n",
            "Found target section:    Cats\n",
            "Diseases and Conditions\n",
            "Allergies & Immune System\n",
            "Adverse Reactions to Spot-on Flea and Tick Products\n",
            "With spot-on preventives, there is the possibility that certain individuals will have adverse local reactions to one or more ingredients in the product.\n",
            "Allergic Conjunctivitis in Dogs and Cats\n",
            "Allergic conjunctivitis is most commonly treated with eyedrops or ointments containing corticoster\n"
          ]
        }
      ],
      "source": [
        "text = ''\n",
        "\n",
        "input_file2 = 'cats_and_dogs_data.txt'\n",
        "\n",
        "with open(input_file2, 'r', encoding='utf-8') as f:\n",
        "    text = f.read()\n",
        "print(f\"Loaded text length: {len(text)}\")\n",
        "print(f\"Sample content: {text[:500]}\")\n",
        "# Tokenize the text\n",
        "data = torch.tensor(encode(text), dtype=torch.long)\n"
      ]
    },
    {
      "cell_type": "code",
      "execution_count": 7,
      "metadata": {
        "colab": {
          "base_uri": "https://localhost:8080/"
        },
        "id": "FhSBBhbccddD",
        "outputId": "f43c8443-eab2-4251-b718-d99be3360a3f"
      },
      "outputs": [
        {
          "output_type": "stream",
          "name": "stdout",
          "text": [
            "length of data in letter or characters\n"
          ]
        },
        {
          "output_type": "execute_result",
          "data": {
            "text/plain": [
              "381381"
            ]
          },
          "metadata": {},
          "execution_count": 7
        }
      ],
      "source": [
        "print(\"length of data in letter or characters\")\n",
        "len(text)\n"
      ]
    },
    {
      "cell_type": "code",
      "execution_count": 8,
      "metadata": {
        "colab": {
          "base_uri": "https://localhost:8080/"
        },
        "id": "i386KFvOcfPH",
        "outputId": "f0e312d2-ad9a-4e11-e9e3-ad1eac8822c4"
      },
      "outputs": [
        {
          "output_type": "execute_result",
          "data": {
            "text/plain": [
              "['/',\n",
              " 'I',\n",
              " '–',\n",
              " 'e',\n",
              " 'z',\n",
              " 'F',\n",
              " 'T',\n",
              " 'G',\n",
              " 'y',\n",
              " 'R',\n",
              " '’',\n",
              " 'Q',\n",
              " 'i',\n",
              " '\\n',\n",
              " '\"',\n",
              " 'P',\n",
              " 'g',\n",
              " '0',\n",
              " 'A',\n",
              " 'B',\n",
              " '7',\n",
              " '8',\n",
              " '!',\n",
              " 'S',\n",
              " '&',\n",
              " 'r',\n",
              " '®',\n",
              " 'E',\n",
              " '1',\n",
              " 'o',\n",
              " '9',\n",
              " ',',\n",
              " 'L',\n",
              " ' ',\n",
              " 'H',\n",
              " ':',\n",
              " '”',\n",
              " 'Y',\n",
              " '-',\n",
              " 'd',\n",
              " 'x',\n",
              " '?',\n",
              " '5',\n",
              " ';',\n",
              " '6',\n",
              " 'c',\n",
              " 'p',\n",
              " 'O',\n",
              " '2',\n",
              " '“',\n",
              " 'U',\n",
              " 'l',\n",
              " 'k',\n",
              " '4',\n",
              " '.',\n",
              " 'j',\n",
              " 'f',\n",
              " 't',\n",
              " 'b',\n",
              " 'C',\n",
              " 'N',\n",
              " '3',\n",
              " 'a',\n",
              " 'D',\n",
              " \"'\",\n",
              " 'u',\n",
              " 'V',\n",
              " '=',\n",
              " '%',\n",
              " '—',\n",
              " 'w',\n",
              " 'n',\n",
              " 'M',\n",
              " ')',\n",
              " 'q',\n",
              " 'h',\n",
              " 'm',\n",
              " '\\xa0',\n",
              " '™',\n",
              " 'Z',\n",
              " 'v',\n",
              " 's',\n",
              " 'J',\n",
              " 'W',\n",
              " 'K',\n",
              " '(']"
            ]
          },
          "metadata": {},
          "execution_count": 8
        }
      ],
      "source": [
        "list(set(text))\n"
      ]
    },
    {
      "cell_type": "code",
      "execution_count": 9,
      "metadata": {
        "colab": {
          "base_uri": "https://localhost:8080/"
        },
        "id": "sjNEImDDchC_",
        "outputId": "9ad76c06-7218-477d-a99b-025029bfbc8d"
      },
      "outputs": [
        {
          "output_type": "stream",
          "name": "stdout",
          "text": [
            "86\n",
            "\n",
            " !\"%&'(),-./0123456789:;=?ABCDEFGHIJKLMNOPQRSTUVWYZabcdefghijklmnopqrstuvwxyz ®–—’“”™\n"
          ]
        }
      ],
      "source": [
        "the_chars  = sorted(     list(set(text))     )\n",
        "\n",
        "vocab_size = len( the_chars )      ## 65\n",
        "\n",
        "print(  len(the_chars)  )\n",
        "\n",
        "print(  ''.join(the_chars)  )\n"
      ]
    },
    {
      "cell_type": "code",
      "execution_count": 10,
      "metadata": {
        "id": "qxIJ49kncjhV"
      },
      "outputs": [],
      "source": [
        "stoi = { ch:i for i, ch in enumerate(the_chars) }\n",
        "itos = { i:ch for i, ch in enumerate(the_chars) }\n",
        "\n"
      ]
    },
    {
      "cell_type": "code",
      "execution_count": 11,
      "metadata": {
        "colab": {
          "base_uri": "https://localhost:8080/"
        },
        "id": "MO6fjZ-4cnGQ",
        "outputId": "21c0d1f7-5914-44ba-96de-23d5019175bc"
      },
      "outputs": [
        {
          "output_type": "stream",
          "name": "stdout",
          "text": [
            "{'\\n': 0, ' ': 1, '!': 2, '\"': 3, '%': 4, '&': 5, \"'\": 6, '(': 7, ')': 8, ',': 9, '-': 10, '.': 11, '/': 12, '0': 13, '1': 14, '2': 15, '3': 16, '4': 17, '5': 18, '6': 19, '7': 20, '8': 21, '9': 22, ':': 23, ';': 24, '=': 25, '?': 26, 'A': 27, 'B': 28, 'C': 29, 'D': 30, 'E': 31, 'F': 32, 'G': 33, 'H': 34, 'I': 35, 'J': 36, 'K': 37, 'L': 38, 'M': 39, 'N': 40, 'O': 41, 'P': 42, 'Q': 43, 'R': 44, 'S': 45, 'T': 46, 'U': 47, 'V': 48, 'W': 49, 'Y': 50, 'Z': 51, 'a': 52, 'b': 53, 'c': 54, 'd': 55, 'e': 56, 'f': 57, 'g': 58, 'h': 59, 'i': 60, 'j': 61, 'k': 62, 'l': 63, 'm': 64, 'n': 65, 'o': 66, 'p': 67, 'q': 68, 'r': 69, 's': 70, 't': 71, 'u': 72, 'v': 73, 'w': 74, 'x': 75, 'y': 76, 'z': 77, '\\xa0': 78, '®': 79, '–': 80, '—': 81, '’': 82, '“': 83, '”': 84, '™': 85}\n",
            "{0: '\\n', 1: ' ', 2: '!', 3: '\"', 4: '%', 5: '&', 6: \"'\", 7: '(', 8: ')', 9: ',', 10: '-', 11: '.', 12: '/', 13: '0', 14: '1', 15: '2', 16: '3', 17: '4', 18: '5', 19: '6', 20: '7', 21: '8', 22: '9', 23: ':', 24: ';', 25: '=', 26: '?', 27: 'A', 28: 'B', 29: 'C', 30: 'D', 31: 'E', 32: 'F', 33: 'G', 34: 'H', 35: 'I', 36: 'J', 37: 'K', 38: 'L', 39: 'M', 40: 'N', 41: 'O', 42: 'P', 43: 'Q', 44: 'R', 45: 'S', 46: 'T', 47: 'U', 48: 'V', 49: 'W', 50: 'Y', 51: 'Z', 52: 'a', 53: 'b', 54: 'c', 55: 'd', 56: 'e', 57: 'f', 58: 'g', 59: 'h', 60: 'i', 61: 'j', 62: 'k', 63: 'l', 64: 'm', 65: 'n', 66: 'o', 67: 'p', 68: 'q', 69: 'r', 70: 's', 71: 't', 72: 'u', 73: 'v', 74: 'w', 75: 'x', 76: 'y', 77: 'z', 78: '\\xa0', 79: '®', 80: '–', 81: '—', 82: '’', 83: '“', 84: '”', 85: '™'}\n"
          ]
        }
      ],
      "source": [
        "print( stoi )\n",
        "print( itos )\n",
        "\n"
      ]
    },
    {
      "cell_type": "code",
      "execution_count": 12,
      "metadata": {
        "colab": {
          "base_uri": "https://localhost:8080/"
        },
        "id": "aXShiO6xcpPN",
        "outputId": "8acfaacf-86f2-4a58-ed6f-12ed814ba94b"
      },
      "outputs": [
        {
          "output_type": "execute_result",
          "data": {
            "text/plain": [
              "[53, 52, 59, 59]"
            ]
          },
          "metadata": {},
          "execution_count": 12
        }
      ],
      "source": [
        "encode = lambda s: [ stoi[c]          for c in s   ]\n",
        "\n",
        "encode(\"bahh\")\n"
      ]
    },
    {
      "cell_type": "code",
      "execution_count": 13,
      "metadata": {
        "colab": {
          "base_uri": "https://localhost:8080/",
          "height": 35
        },
        "id": "LwuikmIycrsd",
        "outputId": "3ae55bd1-da71-459a-bda9-ffb27de30bd5"
      },
      "outputs": [
        {
          "output_type": "execute_result",
          "data": {
            "text/plain": [
              "'NMTT'"
            ],
            "application/vnd.google.colaboratory.intrinsic+json": {
              "type": "string"
            }
          },
          "metadata": {},
          "execution_count": 13
        }
      ],
      "source": [
        "decode = lambda l: ''.join(   itos[i] for i in l   )\n",
        "\n",
        "decode([40, 39, 46, 46])\n",
        "\n"
      ]
    },
    {
      "cell_type": "code",
      "execution_count": 14,
      "metadata": {
        "colab": {
          "base_uri": "https://localhost:8080/"
        },
        "id": "A9Nb41GfcvOx",
        "outputId": "464ff0fe-4ecc-43ac-ce4b-a573ad6f85e1"
      },
      "outputs": [
        {
          "output_type": "stream",
          "name": "stdout",
          "text": [
            "tensor([47, 44, 38,  ..., 25,  0,  0])\n"
          ]
        }
      ],
      "source": [
        "data = torch.tensor(   encode(text), dtype=torch.long   )\n",
        "\n",
        "print( data )\n",
        "\n"
      ]
    },
    {
      "cell_type": "code",
      "execution_count": 15,
      "metadata": {
        "id": "AFRgdSAAcxqy"
      },
      "outputs": [],
      "source": [
        "n          = int(   0.9*len(data)   )\n",
        "\n",
        "train_data = data[:n]\n",
        "val_data   = data[n:]\n"
      ]
    },
    {
      "cell_type": "code",
      "execution_count": 16,
      "metadata": {
        "id": "hEM7qRkDcz25"
      },
      "outputs": [],
      "source": [
        "def get_batch(split):\n",
        "    if split == \"train\":\n",
        "        data = train_data\n",
        "    else:\n",
        "        data = val_data\n",
        "\n",
        "    ix = torch.randint(   len(data) - block_size, (batch_size,)   )\n",
        "\n",
        "    x  = torch.stack(    [  data[   i : i+block_size ]     for i in ix ]    )\n",
        "    y  = torch.stack(    [  data[ i+1 : i+1+block_size ]   for i in ix ]    )\n",
        "\n",
        "    x, y = x.to(device), y.to(device)\n",
        "\n",
        "    return x, y\n"
      ]
    },
    {
      "cell_type": "code",
      "execution_count": 17,
      "metadata": {
        "colab": {
          "base_uri": "https://localhost:8080/"
        },
        "id": "Xnn9dLR-c2Fl",
        "outputId": "61b33d6b-6731-4576-b50c-82d377f54ec8"
      },
      "outputs": [
        {
          "output_type": "stream",
          "name": "stdout",
          "text": [
            "tensor([249289, 246457, 137314, 323667])\n",
            "tensor(59)\n",
            "tensor(70)\n",
            "tensor(67)\n",
            "tensor(71)\n"
          ]
        }
      ],
      "source": [
        "temp_batch_size = 4\n",
        "temp_block_size = 16\n",
        "\n",
        "## select random starting points for the 4 sentences\n",
        "ix = torch.randint(\n",
        "            len(data) - block_size,\n",
        "            (temp_batch_size,)\n",
        ")\n",
        "\n",
        "print( ix )\n",
        "\n",
        "\n",
        "\n",
        "for index_temp in ix:\n",
        "    print(  data[index_temp]  )\n"
      ]
    },
    {
      "cell_type": "code",
      "execution_count": 18,
      "metadata": {
        "colab": {
          "base_uri": "https://localhost:8080/"
        },
        "id": "CbLD2QqRc22R",
        "outputId": "e8bf676e-9d75-4f61-b488-28d377ee5a91"
      },
      "outputs": [
        {
          "output_type": "stream",
          "name": "stdout",
          "text": [
            "tensor([[59, 66, 66, 70, 60, 65, 58,  1, 52, 65,  1, 52, 63, 71, 56, 69],\n",
            "        [70, 72, 52, 63, 63, 76,  1, 67, 52, 60, 65, 57, 72, 63,  9,  1],\n",
            "        [67, 56, 69, 63, 60, 67, 60, 55, 56, 64, 60, 52,  1, 60, 65,  1],\n",
            "        [71, 56, 60, 65,  1, 12,  1, 63, 66, 74,  1, 54, 52, 69, 53, 66]])\n",
            "tensor([[66, 66, 70, 60, 65, 58,  1, 52, 65,  1, 52, 63, 71, 56, 69, 65],\n",
            "        [72, 52, 63, 63, 76,  1, 67, 52, 60, 65, 57, 72, 63,  9,  1, 53],\n",
            "        [56, 69, 63, 60, 67, 60, 55, 56, 64, 60, 52,  1, 60, 65,  1, 30],\n",
            "        [56, 60, 65,  1, 12,  1, 63, 66, 74,  1, 54, 52, 69, 53, 66, 59]])\n"
          ]
        }
      ],
      "source": [
        "x  = torch.stack(\n",
        "    [ data[   i : i+  temp_block_size ]   for i in ix ]\n",
        "\n",
        ")\n",
        "\n",
        "y  = torch.stack(\n",
        "    [ data[ i+1 : i+1+ temp_block_size ]  for i in ix ]\n",
        ")\n",
        "\n",
        "print(x)\n",
        "print(y)\n"
      ]
    },
    {
      "cell_type": "code",
      "execution_count": 19,
      "metadata": {
        "id": "oJ-VBD8Ac5je"
      },
      "outputs": [],
      "source": [
        "@torch.no_grad()    ## for efficient processing\n",
        "def estimate_loss():\n",
        "    out = {}\n",
        "    model.eval()   ## set to no training\n",
        "    for split in ['train', 'val']:\n",
        "        losses = torch.zeros(eval_iters)\n",
        "        for k in range(eval_iters):\n",
        "            X, Y = get_batch(split)\n",
        "            logits, loss = model(X, Y)\n",
        "            losses[k] = loss.item()\n",
        "        out[split] = losses.mean()\n",
        "    model.train()  ## back to training\n",
        "    return out\n"
      ]
    },
    {
      "cell_type": "code",
      "execution_count": 20,
      "metadata": {
        "id": "EM7FDQ54c7dX"
      },
      "outputs": [],
      "source": [
        "## NN Architectures\n",
        "\n",
        "\n",
        "\n",
        "class Head(nn.Module):\n",
        "\n",
        "    def __init__(self, head_size):\n",
        "        super().__init__()\n",
        "\n",
        "        self.key   = nn.Linear(n_embd, head_size, bias=False)  ## [512, 64]\n",
        "        self.query = nn.Linear(n_embd, head_size, bias=False)  ## [512, 64]\n",
        "        self.value = nn.Linear(n_embd, head_size, bias=False)  ## [512, 64]\n",
        "\n",
        "        tril_def = torch.tril( torch.ones(block_size, block_size) )  ## [40, 40]\n",
        "\n",
        "        self.register_buffer(\n",
        "                  'tril',\n",
        "                  tril_def\n",
        "               )\n",
        "\n",
        "        self.dropout = nn.Dropout(dropout)\n",
        "\n",
        "    def forward(self, x):\n",
        "\n",
        "        B, T, E = x.shape   ## [batch_size, 40, 512]\n",
        "\n",
        "        k = self.key(   x )            ## k = (B, T, 64)\n",
        "        q = self.query( x )            ## q = (B, T, 64)\n",
        "\n",
        "        E2 = 64     ## I think this is 64 and not 512\n",
        "        ## (B, T, E) @ (B, E, T)  -> (B, T, T)\n",
        "        wei = q @ k.transpose(-2, -1) * E2 ** -0.5\n",
        "\n",
        "        wei = wei.masked_fill(\n",
        "                      self.tril[:T, :T] == 0,\n",
        "                      float('-inf')\n",
        "        )\n",
        "\n",
        "        ## (B, T, T)\n",
        "        wei = F.softmax( wei, dim= -1 )         ## (B, T, T)\n",
        "        wei = self.dropout(   wei   )\n",
        "\n",
        "        ## perform weighted aggregation of values\n",
        "\n",
        "        v   = self.value(  x  )   ## x = (B, 40, E)\n",
        "        out = wei @ v             ## (B, T, T) @ (B, T, 64) -> (B, T, 64)\n",
        "\n",
        "        return out\n"
      ]
    },
    {
      "cell_type": "code",
      "execution_count": 21,
      "metadata": {
        "id": "YasoTMJJc_tK"
      },
      "outputs": [],
      "source": [
        "class FeedForward(nn.Module):\n",
        "\n",
        "    def __init__(self, n_embd):         ## 512\n",
        "\n",
        "        super().__init__()\n",
        "        self.net = nn.Sequential(\n",
        "            nn.Linear(n_embd, 4 * n_embd),      ## [512, 4*512]\n",
        "            nn.ReLU(),\n",
        "            nn.Linear(4 * n_embd, n_embd),      ## [4*512, 512]\n",
        "            nn.Dropout(dropout),\n",
        "        )\n",
        "\n",
        "    def forward(self, x):\n",
        "        return self.net(x)\n"
      ]
    },
    {
      "cell_type": "code",
      "execution_count": 22,
      "metadata": {
        "id": "rbMqEu17dDNr"
      },
      "outputs": [],
      "source": [
        "class MultiHeadAttention(nn.Module):\n",
        "\n",
        "    def __init__(self, num_heads, head_size):    ## (8, 64)\n",
        "        super().__init__()\n",
        "        self.heads = nn.ModuleList(  [ Head(head_size) for _ in range(num_heads) ] )\n",
        "        self.proj  = nn.Linear(n_embd, n_embd)   ## 512, 512\n",
        "        self.dropout = nn.Dropout(dropout)\n",
        "\n",
        "    def forward(self, x):\n",
        "        out = torch.cat(   [ h(x) for h in self.heads ], dim = -1   )\n",
        "        out = self.proj(  out   )\n",
        "        out = self.dropout(   out   )\n",
        "        return out\n"
      ]
    },
    {
      "cell_type": "code",
      "execution_count": 23,
      "metadata": {
        "id": "oOMYLbUXdGnK"
      },
      "outputs": [],
      "source": [
        "\n",
        "class Block(nn.Module):\n",
        "\n",
        "    def __init__(self, n_embd, n_head):     ## (512, 8)\n",
        "        super().__init__()\n",
        "        head_size = n_embd // n_head        ## 64\n",
        "        self.sa   = MultiHeadAttention(n_head, head_size)\n",
        "        self.ffwd = FeedForward( n_embd)    ## 512\n",
        "        self.ln1  = nn.LayerNorm(n_embd)\n",
        "        self.ln2  = nn.LayerNorm(n_embd)\n",
        "\n",
        "    def forward(self, x):\n",
        "        x = x + self.sa(     self.ln1(x)      )\n",
        "        x = x + self.ffwd(   self.ln2(x)      )\n",
        "        return x\n"
      ]
    },
    {
      "cell_type": "code",
      "execution_count": 24,
      "metadata": {
        "id": "2LutHZyvdLFa"
      },
      "outputs": [],
      "source": [
        "class GPTModel(nn.Module):\n",
        "    def __init__(self):\n",
        "        super().__init__()\n",
        "        self.token_embedding_table = nn.Embedding(vocab_size, n_embd)   ## [65, 512]\n",
        "        self.pos_emb_table = nn.Embedding(block_size, n_embd)     ## [block, 512]\n",
        "\n",
        "        self.blocks = nn.Sequential(\n",
        "                *[   Block(n_embd, n_head=n_head) for _ in range(n_layer)    ]\n",
        "        )\n",
        "\n",
        "        self.ln_f    = nn.LayerNorm(  n_embd    )\n",
        "        self.lm_ffw_head = nn.Linear(n_embd, vocab_size)  ## [512, 65] # FFW Layer\n",
        "\n",
        "    def forward(self, idx, targets=None):\n",
        "        B, T = idx.shape     ## (Batch, 40)\n",
        "        ## ids and targets are both (B, T) tensors of integers\n",
        "\n",
        "        tok_emb = self.token_embedding_table(idx)\n",
        "        pos_emb = self.pos_emb_table(torch.arange(T, device=device))\n",
        "\n",
        "        x = tok_emb + pos_emb    ## [B, T, E] or [64, 40, 512]\n",
        "\n",
        "        ## This is the architecture\n",
        "        x = self.blocks(  x  )   ## (B, T, E)\n",
        "        x = self.ln_f(    x  )   ## (B, T, E)   ## norm\n",
        "        logits = self.lm_ffw_head(x)         ## [B, 40, 65]\n",
        "\n",
        "        if targets is None:\n",
        "            loss = None\n",
        "        else:\n",
        "            B, T, E  = logits.shape\n",
        "            logits  = logits.view( B*T, E)\n",
        "            targets = targets.view(B*T)\n",
        "            loss    = F.cross_entropy(logits, targets)\n",
        "        return logits, loss\n",
        "\n",
        "    def generate(self, idx, max_new_tokens):    ## idx is (B, T)\n",
        "        for _ in range(max_new_tokens):\n",
        "            ## crop idx to the last block_size tokens\n",
        "            idx_cond = idx[:, -block_size:]\n",
        "            logits, loss = self(idx_cond)    ## ## get preds\n",
        "            logits = logits[:, -1, :]    ## focus on last one (B, E)\n",
        "            probs = F.softmax(logits, dim= -1)    ## (B, E) get probs\n",
        "            idx_next = torch.multinomial(probs, num_samples=1)     ## (B, 1) selected\n",
        "            idx = torch.cat(  (idx, idx_next), dim=1  )   ## (B, T+1) append sample to running sequence\n",
        "        return idx\n"
      ]
    },
    {
      "cell_type": "code",
      "execution_count": 25,
      "metadata": {
        "id": "rzmFothGdOuQ"
      },
      "outputs": [],
      "source": [
        "model   = GPTModel()\n",
        "\n",
        "m       = model.to(device)\n",
        "\n",
        "optimizer = torch.optim.Adam(  m.parameters(), lr=learning_rate   )\n",
        "\n"
      ]
    },
    {
      "cell_type": "code",
      "execution_count": 26,
      "metadata": {
        "id": "rGHYc1cAdRDn",
        "colab": {
          "base_uri": "https://localhost:8080/"
        },
        "outputId": "67475179-f6d2-4a06-887f-e7bfe244c579"
      },
      "outputs": [
        {
          "output_type": "stream",
          "name": "stdout",
          "text": [
            "step 0: train loss 4.5992, val loss 4.5921\n",
            "step 500: train loss 1.4280, val loss 1.6760\n",
            "step 1000: train loss 1.0395, val loss 1.4104\n",
            "step 1500: train loss 0.7913, val loss 1.2344\n",
            "step 2000: train loss 0.6152, val loss 1.0933\n",
            "step 2500: train loss 0.4916, val loss 0.9459\n",
            "step 3000: train loss 0.4162, val loss 0.8578\n",
            "step 3500: train loss 0.3701, val loss 0.7806\n",
            "step 4000: train loss 0.3349, val loss 0.7028\n",
            "step 4500: train loss 0.3172, val loss 0.6872\n",
            "step 5000: train loss 0.3007, val loss 0.6524\n",
            "step 5500: train loss 0.2936, val loss 0.6496\n"
          ]
        }
      ],
      "source": [
        "for iter in range(max_iters):\n",
        "\n",
        "    if iter % eval_interval == 0:\n",
        "        losses = estimate_loss()\n",
        "        print(f\"step {iter}: train loss {losses['train']:.4f}, val loss {losses['val']:.4f}\")\n",
        "\n",
        "    xb, yb = get_batch('train')\n",
        "\n",
        "    ## eval the loss\n",
        "    logits, loss = m(xb, yb)\n",
        "\n",
        "    optimizer.zero_grad(set_to_none=True)   ## zero out\n",
        "    loss.backward()\n",
        "    optimizer.step()\n",
        "\n"
      ]
    },
    {
      "cell_type": "code",
      "execution_count": 27,
      "metadata": {
        "id": "q6R5tU0sdfhJ"
      },
      "outputs": [],
      "source": [
        "import re\n",
        "\n",
        "# Function to load the cleaned cat data from a file\n",
        "def load_cleaned_data(filename):\n",
        "    with open(filename, 'r') as file:\n",
        "        data = file.readlines()\n",
        "    return data\n",
        "\n",
        "# Function to clean the input question by removing special characters\n",
        "def clean_question(question):\n",
        "    # Clean the question by removing special characters and converting to lowercase\n",
        "    cleaned_question = re.sub(r'[^a-zA-Z0-9\\s]', '', question).lower()\n",
        "    return cleaned_question\n",
        "\n",
        "# Function to extract main keywords from the question\n",
        "def extract_keywords_from_question(question):\n",
        "    # Remove common words like \"what\", \"is\", \"tell me about\", etc.\n",
        "    keywords = re.sub(r'(what|is|tell me about|about|please|how|can|where|when|who)\\s?', '', question, flags=re.IGNORECASE).strip()\n",
        "    return keywords.lower()\n",
        "\n",
        "# Function to search for the exact keyword in the text and return only relevant information\n",
        "def search_answer(question, cleaned_data):\n",
        "    keywords = extract_keywords_from_question(question)\n",
        "    relevant_lines = []\n",
        "\n",
        "    # Keep track of whether we found a relevant line\n",
        "    found_match = False\n",
        "\n",
        "    for line in cleaned_data:\n",
        "        # If a line contains the keyword, add it to relevant_lines\n",
        "        if keywords in line.lower():\n",
        "            # Avoid duplication of the same lines\n",
        "            if line.strip() not in relevant_lines:\n",
        "                relevant_lines.append(line.strip())\n",
        "            found_match = True\n",
        "\n",
        "    # If relevant lines are found, return them as a single paragraph\n",
        "    if relevant_lines:\n",
        "        paragraph = ' '.join(relevant_lines)\n",
        "        # Optional: If you want to remove any excess whitespace\n",
        "        paragraph = ' '.join(paragraph.split())\n",
        "        return paragraph\n",
        "    else:\n",
        "        return \"Sorry, I couldn't find an answer to your question.\"\n"
      ]
    },
    {
      "cell_type": "code",
      "execution_count": 30,
      "metadata": {
        "id": "Nh1ydzLIdh82",
        "colab": {
          "base_uri": "https://localhost:8080/"
        },
        "outputId": "cc45daae-fb84-4d3a-8998-b711b1bf11b4"
      },
      "outputs": [
        {
          "output_type": "stream",
          "name": "stdout",
          "text": [
            "Ask me a question or type exit to quit : what is dust mites\n",
            "Answer: Dust Mites: Minimizing Exposure in Dogs and Cats Dust mites feed off of skin scales and dander shed by humans and animals. Mites love bedding, carpeting, and anywhere they can find a hiding place with the likelihood of skin dander being present. Dust mites also require a relatively high humidity in the home to truly thrive.\n",
            "Ask me a question or type exit to quit : what is lymphoma\n",
            "Answer: Common Lymphoma Chemotherapy Medications for Cats and Dogs These drugs are typically used to treat lymphoma. Cutaneous Lymphoma in Cats Lymphoma Lymphoma in Cats Lymphoma accounts for one third of all cancers developed by cats. When the mediastinal lymph nodes become infiltrated with lymphoma, a mass is apparent in the mediastinum and a cancerous fluid fills the chest, restricting breathing. The fluid can be tapped but it will be back without treatment. Lymphoma in the Skin of Dogs There are three types of skin lymphoma: mycosis fungoides, Sezary syndrome, and pagetoid reticulosis.\n",
            "Ask me a question or type exit to quit : exit\n",
            "Goodbye!\n"
          ]
        }
      ],
      "source": [
        "# Function to ask the user a question and return the corresponding answer\n",
        "def ask_user_question():\n",
        "    # Load the cleaned cat data from the file\n",
        "    cleaned_data = load_cleaned_data('cats_and_dogs_data.txt')\n",
        "\n",
        "    while True:\n",
        "        # Ask the user for a question\n",
        "        user_question = input(\"Ask me a question or type exit to quit : \")\n",
        "\n",
        "        # Exit condition if the user types 'exit'\n",
        "        if user_question.lower() == 'exit':\n",
        "            print(\"Goodbye!\")\n",
        "            break\n",
        "\n",
        "        # Process the question and search for the answer\n",
        "        answer = search_answer(user_question, cleaned_data)\n",
        "\n",
        "        # Display the \\answer in a paragraph format\n",
        "        print(f\"Answer: {answer}\")\n",
        "\n",
        "# Start the Q&A session\n",
        "if __name__ == \"__main__\":\n",
        "    ask_user_question()\n",
        "\n"
      ]
    }
  ]
}